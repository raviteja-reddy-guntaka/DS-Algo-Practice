{
 "cells": [
  {
   "cell_type": "code",
   "execution_count": 5,
   "id": "92b538be-01fe-4154-be61-c787f42cae20",
   "metadata": {},
   "outputs": [
    {
     "name": "stdout",
     "output_type": "stream",
     "text": [
      "[1, 2, 5, 9, 34, 34, 67, 88]\n",
      "[{'name': 'aamir', 'transaction_amount': 800, 'device': 'iphone-8'}, {'name': 'dhaval', 'transaction_amount': 400, 'device': 'google pixel'}, {'name': 'kathy', 'transaction_amount': 200, 'device': 'vivo'}, {'name': 'mona', 'transaction_amount': 1000, 'device': 'iphone-10'}]\n",
      "[{'name': 'kathy', 'transaction_amount': 200, 'device': 'vivo'}, {'name': 'dhaval', 'transaction_amount': 400, 'device': 'google pixel'}, {'name': 'aamir', 'transaction_amount': 800, 'device': 'iphone-8'}, {'name': 'mona', 'transaction_amount': 1000, 'device': 'iphone-10'}]\n",
      "[{'name': 'dhaval', 'transaction_amount': 400, 'device': 'google pixel'}, {'name': 'mona', 'transaction_amount': 1000, 'device': 'iphone-10'}, {'name': 'aamir', 'transaction_amount': 800, 'device': 'iphone-8'}, {'name': 'kathy', 'transaction_amount': 200, 'device': 'vivo'}]\n"
     ]
    }
   ],
   "source": [
    "def bubble_sort(numbers):\n",
    "    size = len(numbers)\n",
    "    for t in range(size):\n",
    "        swapped = False\n",
    "        for i in range(size-1):\n",
    "            if numbers[i] > numbers[i+1]:\n",
    "                swapped = True\n",
    "                tmp = numbers[i]\n",
    "                numbers[i] = numbers[i+1]\n",
    "                numbers[i+1] = tmp\n",
    "        if not swapped:\n",
    "            break\n",
    "    \n",
    "\n",
    "def bubble_sort_modified(elements, key):\n",
    "    size = len(elements)\n",
    "    for t in range(size):\n",
    "        swapped = False\n",
    "        for i in range(size-1):\n",
    "            if elements[i][key] > elements[i+1][key]:\n",
    "                swapped = True\n",
    "                tmp = elements[i]\n",
    "                elements[i] = elements[i+1]\n",
    "                elements[i+1] = tmp\n",
    "        if not swapped:\n",
    "            break\n",
    "\n",
    "    \n",
    "if __name__ == '__main__':\n",
    "    elements = [5, 9, 2, 1, 67, 34, 88, 34]\n",
    "    bubble_sort(elements)\n",
    "    print(elements)\n",
    "    \n",
    "    elements = [\n",
    "        { 'name': 'mona',   'transaction_amount': 1000, 'device': 'iphone-10'},\n",
    "        { 'name': 'dhaval', 'transaction_amount': 400,  'device': 'google pixel'},\n",
    "        { 'name': 'kathy',  'transaction_amount': 200,  'device': 'vivo'},\n",
    "        { 'name': 'aamir',  'transaction_amount': 800,  'device': 'iphone-8'},\n",
    "    ]\n",
    "    bubble_sort_modified(elements, \"name\")\n",
    "    print(elements)\n",
    "    \n",
    "    bubble_sort_modified(elements, \"transaction_amount\")\n",
    "    print(elements)\n",
    "    \n",
    "    bubble_sort_modified(elements, \"device\")\n",
    "    print(elements)\n",
    "    "
   ]
  }
 ],
 "metadata": {
  "kernelspec": {
   "display_name": "Python 3 (ipykernel)",
   "language": "python",
   "name": "python3"
  },
  "language_info": {
   "codemirror_mode": {
    "name": "ipython",
    "version": 3
   },
   "file_extension": ".py",
   "mimetype": "text/x-python",
   "name": "python",
   "nbconvert_exporter": "python",
   "pygments_lexer": "ipython3",
   "version": "3.8.13"
  }
 },
 "nbformat": 4,
 "nbformat_minor": 5
}
