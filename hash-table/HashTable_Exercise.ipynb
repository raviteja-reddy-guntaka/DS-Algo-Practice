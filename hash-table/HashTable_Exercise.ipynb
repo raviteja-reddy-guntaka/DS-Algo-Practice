{
 "cells": [
  {
   "cell_type": "code",
   "execution_count": 14,
   "id": "7b0ccc67-7e27-4f79-9885-65f14e302c79",
   "metadata": {},
   "outputs": [],
   "source": [
    "class HashTable:\n",
    "    \n",
    "    def __init__(self, capacity):\n",
    "        self.capacity = capacity\n",
    "        self.hash_table = [[] for _ in range(self.capacity)]\n",
    "    \n",
    "    def hash_function(self, key):\n",
    "        hash_val = 0 \n",
    "        for ch in key:\n",
    "            hash_val += ord(ch)\n",
    "        return hash_val % (self.capacity)\n",
    "    \n",
    "    def __getitem__(self, key):\n",
    "        h = self.hash_function(key)\n",
    "        for idx, element in enumerate(self.hash_table[h]):\n",
    "            if len(element) == 2 and element[0] == key:\n",
    "                return element[1]\n",
    "    \n",
    "    def __setitem__(self, key, val):\n",
    "        h = self.hash_function(key)\n",
    "        found = False\n",
    "        for idx, element in enumerate(self.hash_table[h]):\n",
    "            if len(element) == 2 and element[0] == key:\n",
    "                self.hash_table[h][idx] = (key, val)\n",
    "                found = True\n",
    "                break\n",
    "        if not found:\n",
    "            self.hash_table[h].append((key, val))\n",
    "    \n",
    "    def __delitem__(self, key):\n",
    "        h = self.hash_function(key)\n",
    "        for idx, element in enumerate(self.hash_table[h]):\n",
    "            if len(element) == 2 and element[0] == key:\n",
    "                del self.hash_table[h][idx]\n",
    "                break"
   ]
  },
  {
   "cell_type": "code",
   "execution_count": 23,
   "id": "f3f763c6-5eb4-4736-896d-120e35862f51",
   "metadata": {},
   "outputs": [],
   "source": [
    "# pre-processing data into a HashTable\n",
    "import csv\n",
    "\n",
    "# weather_data = HashTable(10)\n",
    "weather_data = {}\n",
    "\n",
    "with open('nyc_weather.csv', newline = '') as nyc_weather:\n",
    "    weather_reader = csv.reader(nyc_weather, delimiter=\",\")\n",
    "    next(weather_reader, None)\n",
    "    for row in weather_reader:\n",
    "        weather_data[row[0]] = int(row[1])\n"
   ]
  },
  {
   "cell_type": "code",
   "execution_count": 24,
   "id": "97fbdfd5-2f0c-47c9-ac3c-4ac1bd7e404a",
   "metadata": {},
   "outputs": [
    {
     "name": "stdout",
     "output_type": "stream",
     "text": [
      "Average temp of first week of Jan:  31.285714285714285\n",
      "Average temp of first week of Jan:  38\n"
     ]
    }
   ],
   "source": [
    "#1 -------------------\n",
    "total = 0\n",
    "for i in range(7):\n",
    "    key = 'Jan ' + str(i+1)\n",
    "    total += weather_data[key]\n",
    "\n",
    "print(\"Average temp of first week of Jan: \", total/7)\n",
    "\n",
    "max_temp = 0\n",
    "for i in range(10):\n",
    "    key = 'Jan ' + str(i+1)\n",
    "    max_temp = max(max_temp, weather_data[key])\n",
    "\n",
    "print(\"Average temp of first week of Jan: \", max_temp)"
   ]
  },
  {
   "cell_type": "code",
   "execution_count": 25,
   "id": "aa083398-b586-4e83-b36a-f21dc198d0ba",
   "metadata": {},
   "outputs": [
    {
     "name": "stdout",
     "output_type": "stream",
     "text": [
      "35\n",
      "34\n"
     ]
    }
   ],
   "source": [
    "#2 -------------------\n",
    "print(weather_data['Jan 9'])\n",
    "print(weather_data['Jan 4'])"
   ]
  },
  {
   "cell_type": "code",
   "execution_count": 43,
   "id": "0262517a-09e8-4e08-b104-c179d7a502b3",
   "metadata": {},
   "outputs": [
    {
     "data": {
      "text/plain": [
       "{'Two': 3,\n",
       " 'roads': 5,\n",
       " 'diverged': 8,\n",
       " 'in': 2,\n",
       " 'a': 1,\n",
       " 'yellow': 6,\n",
       " 'wood,\\n': 6,\n",
       " 'And': 3,\n",
       " 'sorry': 5,\n",
       " 'I': 1,\n",
       " 'could': 5,\n",
       " 'not': 3,\n",
       " 'travel': 6,\n",
       " 'both\\n': 5,\n",
       " 'be': 2,\n",
       " 'one': 3,\n",
       " 'traveler,': 9,\n",
       " 'long': 4,\n",
       " 'stood\\n': 6,\n",
       " 'looked': 6,\n",
       " 'down': 4,\n",
       " 'as': 2,\n",
       " 'far': 3,\n",
       " 'could\\n': 6,\n",
       " 'To': 2,\n",
       " 'where': 5,\n",
       " 'it': 2,\n",
       " 'bent': 4,\n",
       " 'the': 3,\n",
       " 'undergrowth;\\n': 13,\n",
       " 'Then': 4,\n",
       " 'took': 4,\n",
       " 'other,': 6,\n",
       " 'just': 4,\n",
       " 'fair,\\n': 6,\n",
       " 'having': 6,\n",
       " 'perhaps': 7,\n",
       " 'better': 6,\n",
       " 'claim,\\n': 7,\n",
       " 'Because': 7,\n",
       " 'was': 3,\n",
       " 'grassy': 6,\n",
       " 'and': 3,\n",
       " 'wanted': 6,\n",
       " 'wear;\\n': 6,\n",
       " 'Though': 6,\n",
       " 'for': 3,\n",
       " 'that': 4,\n",
       " 'passing': 7,\n",
       " 'there\\n': 6,\n",
       " 'Had': 3,\n",
       " 'worn': 4,\n",
       " 'them': 4,\n",
       " 'really': 6,\n",
       " 'about': 5,\n",
       " 'same,\\n': 6,\n",
       " 'both': 4,\n",
       " 'morning': 7,\n",
       " 'equally': 7,\n",
       " 'lay\\n': 4,\n",
       " 'In': 2,\n",
       " 'leaves': 6,\n",
       " 'no': 2,\n",
       " 'step': 4,\n",
       " 'had': 3,\n",
       " 'trodden': 7,\n",
       " 'black.\\n': 7,\n",
       " 'Oh,': 3,\n",
       " 'kept': 4,\n",
       " 'first': 5,\n",
       " 'another': 7,\n",
       " 'day!\\n': 5,\n",
       " 'Yet': 3,\n",
       " 'knowing': 7,\n",
       " 'how': 3,\n",
       " 'way': 3,\n",
       " 'leads': 5,\n",
       " 'on': 2,\n",
       " 'to': 2,\n",
       " 'way,\\n': 5,\n",
       " 'doubted': 7,\n",
       " 'if': 2,\n",
       " 'should': 6,\n",
       " 'ever': 4,\n",
       " 'come': 4,\n",
       " 'back.\\n': 6,\n",
       " 'shall': 5,\n",
       " 'telling': 7,\n",
       " 'this': 4,\n",
       " 'with': 4,\n",
       " 'sigh\\n': 5,\n",
       " 'Somewhere': 9,\n",
       " 'ages': 4,\n",
       " 'hence:\\n': 7,\n",
       " 'wood,': 5,\n",
       " 'Iâ€”\\n': 5,\n",
       " 'less': 4,\n",
       " 'traveled': 8,\n",
       " 'by,\\n': 4,\n",
       " 'has': 3,\n",
       " 'made': 4,\n",
       " 'all': 3,\n",
       " 'difference.': 11}"
      ]
     },
     "execution_count": 43,
     "metadata": {},
     "output_type": "execute_result"
    }
   ],
   "source": [
    "#3 -------------------\n",
    "word_count = {}\n",
    "with open('poem.txt') as file:\n",
    "    for line in file:\n",
    "        words = line.split(\" \")\n",
    "        for word in words:\n",
    "            if word != '\\n':\n",
    "                word_count[word] = len(word)\n",
    "word_count"
   ]
  },
  {
   "cell_type": "code",
   "execution_count": 60,
   "id": "e1fe7c09-173b-4713-adfb-238ac14fd4bd",
   "metadata": {},
   "outputs": [],
   "source": [
    "#4 -------------------\n",
    "class HashTableLinearProbing:\n",
    "    \n",
    "    def __init__(self, capacity):\n",
    "        self.capacity = capacity\n",
    "        self.hash_table = [None for _ in range(self.capacity)]\n",
    "    \n",
    "    def hash_function(self, key):\n",
    "        hash_val = 0 \n",
    "        for ch in key:\n",
    "            hash_val += ord(ch)\n",
    "        return hash_val % (self.capacity)\n",
    "    \n",
    "    def __getitem__(self, key):\n",
    "        h = self.hash_function(key)\n",
    "        for i in range(self.capacity):\n",
    "            if len(self.hash_table[h]) == 2 and self.hash_table[h][0] == key:\n",
    "                return self.hash_table[h][1]\n",
    "            h = (h+1) % (self.capacity)\n",
    "    \n",
    "    def __setitem__(self, key, val):\n",
    "        h = self.hash_function(key)\n",
    "        found = False\n",
    "        for i in range(self.capacity):\n",
    "            if self.hash_table[h] and self.hash_table[h][0] == key:\n",
    "                self.hash_table[h] = (key, val)\n",
    "                break\n",
    "            elif self.hash_table[h] == None:\n",
    "                self.hash_table[h] = (key, val)\n",
    "                break\n",
    "            h = (h+1) % (self.capacity)\n",
    "    \n",
    "    def __delitem__(self, key):\n",
    "        h = self.hash_function(key)\n",
    "        for i in range(self.capacity):\n",
    "            if len(self.hash_table[h]) == 2 and self.hash_table[h][0] == key:\n",
    "                self.hash_table[h] = None\n",
    "                return\n",
    "            h = (h+1) % (self.capacity)"
   ]
  },
  {
   "cell_type": "code",
   "execution_count": 61,
   "id": "3850a965-daeb-40c1-b3cc-1ffcef72ccf2",
   "metadata": {},
   "outputs": [],
   "source": [
    "t = HashTableLinearProbing(10)\n",
    "t[\"Feb 2\"] = 120\n",
    "t[\"Feb 12\"] = 145\n",
    "t[\"Feb 23\"] = 0\n",
    "t[\"Feb 13\"] = 169"
   ]
  },
  {
   "cell_type": "code",
   "execution_count": 65,
   "id": "0acc3259-dc16-4882-898a-16872a4a3041",
   "metadata": {},
   "outputs": [
    {
     "data": {
      "text/plain": [
       "[('Feb 12', 145),\n",
       " ('Feb 2', 120),\n",
       " ('Feb 23', 0),\n",
       " None,\n",
       " None,\n",
       " None,\n",
       " None,\n",
       " None,\n",
       " None,\n",
       " None]"
      ]
     },
     "execution_count": 65,
     "metadata": {},
     "output_type": "execute_result"
    }
   ],
   "source": [
    "t.hash_table"
   ]
  },
  {
   "cell_type": "code",
   "execution_count": 63,
   "id": "c66da09f-9153-4895-b77c-bd4db9a13be7",
   "metadata": {},
   "outputs": [
    {
     "data": {
      "text/plain": [
       "169"
      ]
     },
     "execution_count": 63,
     "metadata": {},
     "output_type": "execute_result"
    }
   ],
   "source": [
    "t[\"Feb 13\"]"
   ]
  },
  {
   "cell_type": "code",
   "execution_count": 64,
   "id": "77991c2d-7de5-4a57-94be-3ed0c654d5ff",
   "metadata": {},
   "outputs": [],
   "source": [
    "del t[\"Feb 13\"]"
   ]
  }
 ],
 "metadata": {
  "kernelspec": {
   "display_name": "Python 3 (ipykernel)",
   "language": "python",
   "name": "python3"
  },
  "language_info": {
   "codemirror_mode": {
    "name": "ipython",
    "version": 3
   },
   "file_extension": ".py",
   "mimetype": "text/x-python",
   "name": "python",
   "nbconvert_exporter": "python",
   "pygments_lexer": "ipython3",
   "version": "3.8.13"
  }
 },
 "nbformat": 4,
 "nbformat_minor": 5
}
