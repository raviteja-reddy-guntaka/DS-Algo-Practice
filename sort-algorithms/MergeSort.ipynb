{
 "cells": [
  {
   "cell_type": "code",
   "execution_count": 5,
   "id": "c7aeb78a-6770-4dec-9201-2850347487bc",
   "metadata": {},
   "outputs": [],
   "source": [
    "def merge(elements, start, mid, end):\n",
    "    merged = []\n",
    "    f, s = start, 1+mid\n",
    "    while f <= mid and s <= end:\n",
    "        if elements[f] <= elements[s]:\n",
    "            merged.append(elements[f])\n",
    "            f += 1\n",
    "        else:\n",
    "            merged.append(elements[s])\n",
    "            s += 1\n",
    "    while f <= mid:\n",
    "        merged.append(elements[f])\n",
    "        f += 1\n",
    "    while s <= end:\n",
    "        merged.append(elements[s])\n",
    "        s += 1\n",
    "    for i in range(start, 1+end):\n",
    "        elements[i] = merged[i-start]\n",
    "\n",
    "\n",
    "def merge_sort(elements, start, end):\n",
    "    if start == end or end < 0:\n",
    "        return\n",
    "    mid = (start + end) // 2\n",
    "    merge_sort(elements, start, mid)\n",
    "    merge_sort(elements, 1+mid, end)\n",
    "    merge(elements, start, mid, end)\n",
    "    "
   ]
  },
  {
   "cell_type": "code",
   "execution_count": 6,
   "id": "41154aef-65ee-4f4d-a0c1-97a8a135ac9a",
   "metadata": {},
   "outputs": [
    {
     "name": "stdout",
     "output_type": "stream",
     "text": [
      "Merge sort results: \n",
      "[1, 2, 5, 9, 34, 34, 67, 88]\n",
      "[2, 7, 9, 11, 15, 28, 29]\n",
      "[3, 7, 9, 11]\n",
      "[10, 21, 22, 25]\n",
      "[15, 28, 29]\n",
      "[]\n",
      "[6]\n"
     ]
    }
   ],
   "source": [
    "if __name__ == '__main__':\n",
    "    tests = [\n",
    "        [5, 9, 2, 1, 67, 34, 88, 34],\n",
    "        [11,9,29,7,2,15,28],\n",
    "        [3, 7, 9, 11],\n",
    "        [25, 22, 21, 10],\n",
    "        [29, 15, 28],\n",
    "        [],\n",
    "        [6]\n",
    "    ]\n",
    "    print(\"Merge sort results: \")\n",
    "    for elements in tests:\n",
    "        merge_sort(elements, 0, len(elements)-1)\n",
    "        print(elements)"
   ]
  }
 ],
 "metadata": {
  "kernelspec": {
   "display_name": "Python 3 (ipykernel)",
   "language": "python",
   "name": "python3"
  },
  "language_info": {
   "codemirror_mode": {
    "name": "ipython",
    "version": 3
   },
   "file_extension": ".py",
   "mimetype": "text/x-python",
   "name": "python",
   "nbconvert_exporter": "python",
   "pygments_lexer": "ipython3",
   "version": "3.8.13"
  }
 },
 "nbformat": 4,
 "nbformat_minor": 5
}
