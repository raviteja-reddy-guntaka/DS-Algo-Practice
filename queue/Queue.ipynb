{
 "cells": [
  {
   "cell_type": "code",
   "execution_count": 1,
   "id": "77cf9763-8e2f-4a72-83e9-a4b9d2d137dc",
   "metadata": {},
   "outputs": [],
   "source": [
    "from collections import deque\n",
    "\n",
    "class MyQueue:\n",
    "    \n",
    "    def __init__(self):\n",
    "        self.q = deque()\n",
    "        \n",
    "    def enqueue(self, val):\n",
    "        self.q.appendleft(val)\n",
    "        \n",
    "    def dequeue(self):\n",
    "        return self.q.pop()\n",
    "    \n",
    "    def is_empty(self):\n",
    "        return len(self.q)==0\n",
    "    \n",
    "    def size(self):\n",
    "        return len(self.q)"
   ]
  }
 ],
 "metadata": {
  "kernelspec": {
   "display_name": "Python 3 (ipykernel)",
   "language": "python",
   "name": "python3"
  },
  "language_info": {
   "codemirror_mode": {
    "name": "ipython",
    "version": 3
   },
   "file_extension": ".py",
   "mimetype": "text/x-python",
   "name": "python",
   "nbconvert_exporter": "python",
   "pygments_lexer": "ipython3",
   "version": "3.8.13"
  }
 },
 "nbformat": 4,
 "nbformat_minor": 5
}
