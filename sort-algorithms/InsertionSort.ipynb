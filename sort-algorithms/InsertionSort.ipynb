{
 "cells": [
  {
   "cell_type": "code",
   "execution_count": 9,
   "id": "680e183d-1705-4887-a0c4-c7256c6e587a",
   "metadata": {},
   "outputs": [],
   "source": [
    "def insertion_sort(elements):\n",
    "    for i in range(1, len(elements)):\n",
    "        tmp = elements[i]\n",
    "        j = i-1\n",
    "        while j >= 0:\n",
    "            if elements[j] > elements[j+1]:\n",
    "                elements[j+1] = elements[j]\n",
    "                elements[j] = tmp\n",
    "            else:\n",
    "                break\n",
    "            j -= 1\n"
   ]
  },
  {
   "cell_type": "code",
   "execution_count": 10,
   "id": "dd4b3524-790e-415f-a7a3-cba6bea46843",
   "metadata": {},
   "outputs": [
    {
     "name": "stdout",
     "output_type": "stream",
     "text": [
      "Insertion sort results: \n",
      "[1, 2, 5, 9, 34, 34, 67, 88]\n",
      "[2, 7, 9, 11, 15, 28, 29]\n",
      "[3, 7, 9, 11]\n",
      "[10, 21, 22, 25]\n",
      "[15, 28, 29]\n",
      "[]\n",
      "[6]\n"
     ]
    }
   ],
   "source": [
    "if __name__ == '__main__':\n",
    "    tests = [\n",
    "        [5, 9, 2, 1, 67, 34, 88, 34],\n",
    "        [11,9,29,7,2,15,28],\n",
    "        [3, 7, 9, 11],\n",
    "        [25, 22, 21, 10],\n",
    "        [29, 15, 28],\n",
    "        [],\n",
    "        [6]\n",
    "    ]\n",
    "    print(\"Insertion sort results: \")\n",
    "    for elements in tests:\n",
    "        insertion_sort(elements)\n",
    "        print(elements)"
   ]
  }
 ],
 "metadata": {
  "kernelspec": {
   "display_name": "Python 3 (ipykernel)",
   "language": "python",
   "name": "python3"
  },
  "language_info": {
   "codemirror_mode": {
    "name": "ipython",
    "version": 3
   },
   "file_extension": ".py",
   "mimetype": "text/x-python",
   "name": "python",
   "nbconvert_exporter": "python",
   "pygments_lexer": "ipython3",
   "version": "3.8.13"
  }
 },
 "nbformat": 4,
 "nbformat_minor": 5
}
