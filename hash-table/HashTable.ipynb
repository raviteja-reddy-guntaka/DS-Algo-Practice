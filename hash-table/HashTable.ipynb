{
 "cells": [
  {
   "cell_type": "code",
   "execution_count": 48,
   "id": "577ac57e-e8ed-43ee-9896-36f68f246677",
   "metadata": {},
   "outputs": [],
   "source": [
    "class HashTable:\n",
    "    \n",
    "    def __init__(self, capacity):\n",
    "        self.capacity = capacity\n",
    "        self.hash_table = [[] for _ in range(self.capacity)]\n",
    "    \n",
    "    def hash_function(self, key):\n",
    "        hash_val = 0 \n",
    "        for ch in key:\n",
    "            hash_val += ord(ch)\n",
    "        return hash_val % (self.capacity)\n",
    "    \n",
    "    def __getitem__(self, key):\n",
    "        h = self.hash_function(key)\n",
    "        for idx, element in enumerate(self.hash_table[h]):\n",
    "            if len(element) == 2 and element[0] == key:\n",
    "                return element[1]\n",
    "    \n",
    "    def __setitem__(self, key, val):\n",
    "        h = self.hash_function(key)\n",
    "        found = False\n",
    "        for idx, element in enumerate(self.hash_table[h]):\n",
    "            if len(element) == 2 and element[0] == key:\n",
    "                self.hash_table[h][idx] = (key, val)\n",
    "                found = True\n",
    "                break\n",
    "        if not found:\n",
    "            self.hash_table[h].append((key, val))\n",
    "    \n",
    "    def __delitem__(self, key):\n",
    "        h = self.hash_function(key)\n",
    "        for idx, element in enumerate(self.hash_table[h]):\n",
    "            if len(element) == 2 and element[0] == key:\n",
    "                del self.hash_table[h][idx]\n",
    "                break\n",
    "        "
   ]
  },
  {
   "cell_type": "code",
   "execution_count": 49,
   "id": "dcab1a44-ce37-4388-ba20-356a6b06b10b",
   "metadata": {},
   "outputs": [],
   "source": [
    "t = HashTable(10)"
   ]
  },
  {
   "cell_type": "code",
   "execution_count": 50,
   "id": "f18eee04-ffef-40be-8991-a9ff61be88e6",
   "metadata": {},
   "outputs": [],
   "source": [
    "t[\"Feb 2\"] = 120\n",
    "t[\"Feb 12\"] = 145\n",
    "t[\"Feb 23\"] = 0\n",
    "t[\"Feb 13\"] = 169"
   ]
  },
  {
   "cell_type": "code",
   "execution_count": 45,
   "id": "e958a7f5-f1ab-49d1-9cc3-453f30bfe468",
   "metadata": {},
   "outputs": [
    {
     "data": {
      "text/plain": [
       "120"
      ]
     },
     "execution_count": 45,
     "metadata": {},
     "output_type": "execute_result"
    }
   ],
   "source": [
    "t[\"Feb 2\"]"
   ]
  },
  {
   "cell_type": "code",
   "execution_count": 46,
   "id": "418d0914-8380-47e4-8a6c-05eb39242662",
   "metadata": {},
   "outputs": [],
   "source": [
    "del t[\"Feb 2\"]"
   ]
  },
  {
   "cell_type": "code",
   "execution_count": 51,
   "id": "2776ebdb-1180-4b4e-b5c2-8fdcc598d425",
   "metadata": {},
   "outputs": [
    {
     "data": {
      "text/plain": [
       "[[('Feb 12', 145)],\n",
       " [('Feb 2', 120), ('Feb 13', 169)],\n",
       " [('Feb 23', 0)],\n",
       " [],\n",
       " [],\n",
       " [],\n",
       " [],\n",
       " [],\n",
       " [],\n",
       " []]"
      ]
     },
     "execution_count": 51,
     "metadata": {},
     "output_type": "execute_result"
    }
   ],
   "source": [
    "t.hash_table"
   ]
  }
 ],
 "metadata": {
  "kernelspec": {
   "display_name": "Python 3 (ipykernel)",
   "language": "python",
   "name": "python3"
  },
  "language_info": {
   "codemirror_mode": {
    "name": "ipython",
    "version": 3
   },
   "file_extension": ".py",
   "mimetype": "text/x-python",
   "name": "python",
   "nbconvert_exporter": "python",
   "pygments_lexer": "ipython3",
   "version": "3.8.13"
  }
 },
 "nbformat": 4,
 "nbformat_minor": 5
}
