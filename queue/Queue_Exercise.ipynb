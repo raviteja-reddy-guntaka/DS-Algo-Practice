{
 "cells": [
  {
   "cell_type": "code",
   "execution_count": 11,
   "id": "9d883e49-7345-4a2c-8054-c041d041efb0",
   "metadata": {},
   "outputs": [],
   "source": [
    "from collections import deque\n",
    "\n",
    "class MyQueue:\n",
    "    \n",
    "    def __init__(self):\n",
    "        self.q = deque()\n",
    "        \n",
    "    def enqueue(self, val):\n",
    "        self.q.appendleft(val)\n",
    "        \n",
    "    def dequeue(self):\n",
    "        return self.q.pop()\n",
    "    \n",
    "    def is_empty(self):\n",
    "        return len(self.q)==0\n",
    "    \n",
    "    def size(self):\n",
    "        return len(self.q)"
   ]
  },
  {
   "cell_type": "code",
   "execution_count": 13,
   "id": "326a0850-05a4-4e9b-a915-fa5be12fcd75",
   "metadata": {},
   "outputs": [
    {
     "name": "stdout",
     "output_type": "stream",
     "text": [
      "pizza\n",
      "samosa\n",
      "pasta\n",
      "biryani\n",
      "burger\n"
     ]
    }
   ],
   "source": [
    "#1\n",
    "import time\n",
    "import threading\n",
    "\n",
    "orders = ['pizza','samosa','pasta','biryani','burger']\n",
    "orders_queue = MyQueue()\n",
    "\n",
    "def place_order(input_orders):\n",
    "    for item in input_orders:\n",
    "        orders_queue.enqueue(item)\n",
    "        time.sleep(0.5)\n",
    "\n",
    "def serve_order():\n",
    "    time.sleep(1)\n",
    "    while not orders_queue.is_empty():\n",
    "        print(orders_queue.dequeue())\n",
    "        time.sleep(2)\n",
    "\n",
    "t1 = threading.Thread(target=place_order, args=(orders,))\n",
    "t2 = threading.Thread(target=serve_order, args=())\n",
    "\n",
    "t1.start()\n",
    "t2.start()\n",
    "\n",
    "t1.join()\n",
    "t2.join()"
   ]
  },
  {
   "cell_type": "code",
   "execution_count": 14,
   "id": "7d37e679-3912-49f2-8001-917a2e3e15c2",
   "metadata": {},
   "outputs": [
    {
     "name": "stdout",
     "output_type": "stream",
     "text": [
      "1\n",
      "10\n",
      "11\n",
      "100\n",
      "101\n",
      "110\n",
      "111\n",
      "1000\n",
      "1001\n",
      "1010\n"
     ]
    },
    {
     "data": {
      "text/plain": [
       "['1', '10', '11', '100', '101', '110', '111', '1000', '1001', '1010']"
      ]
     },
     "execution_count": 14,
     "metadata": {},
     "output_type": "execute_result"
    }
   ],
   "source": [
    "#2\n",
    "def generate():\n",
    "    q = MyQueue()\n",
    "    q.enqueue('1')\n",
    "    result = []\n",
    "    while not q.is_empty():\n",
    "        curr = q.dequeue()\n",
    "        if len(result) < 10:\n",
    "            print(curr)\n",
    "            result.append(curr)\n",
    "            q.enqueue(curr + '0')\n",
    "            q.enqueue(curr + '1')\n",
    "    return result\n",
    "\n",
    "generate()"
   ]
  }
 ],
 "metadata": {
  "kernelspec": {
   "display_name": "Python 3 (ipykernel)",
   "language": "python",
   "name": "python3"
  },
  "language_info": {
   "codemirror_mode": {
    "name": "ipython",
    "version": 3
   },
   "file_extension": ".py",
   "mimetype": "text/x-python",
   "name": "python",
   "nbconvert_exporter": "python",
   "pygments_lexer": "ipython3",
   "version": "3.8.13"
  }
 },
 "nbformat": 4,
 "nbformat_minor": 5
}
