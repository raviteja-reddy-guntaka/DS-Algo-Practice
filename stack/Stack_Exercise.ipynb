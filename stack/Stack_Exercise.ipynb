{
 "cells": [
  {
   "cell_type": "code",
   "execution_count": 33,
   "id": "d84a5b65-04cf-410d-8add-2b256e390feb",
   "metadata": {},
   "outputs": [],
   "source": [
    "from collections import deque\n",
    "\n",
    "class MyStack:\n",
    "    \n",
    "    def __init__(self):\n",
    "        self.stk = deque()\n",
    "    \n",
    "    def push(self, val):\n",
    "        self.stk.append(val)\n",
    "        \n",
    "    def peek(self):\n",
    "        self.stk[-1]\n",
    "        \n",
    "    def pop(self):\n",
    "        return self.stk.pop()\n",
    "    \n",
    "    def is_empty(self):\n",
    "        return len(self.stk)==0\n",
    "    \n",
    "    def size(self):\n",
    "        return len(self.stk)"
   ]
  },
  {
   "cell_type": "code",
   "execution_count": 10,
   "id": "1ce9498c-0ca4-4690-b2a4-c71cc0e42f3a",
   "metadata": {},
   "outputs": [
    {
     "data": {
      "text/plain": [
       "'91-DIVOC ereuqnoc lliw eW'"
      ]
     },
     "execution_count": 10,
     "metadata": {},
     "output_type": "execute_result"
    }
   ],
   "source": [
    "#1\n",
    "def reverse_string(input: str) -> str:\n",
    "    s = MyStack()\n",
    "    for ch in input:\n",
    "        s.push(ch)\n",
    "    output = \"\"\n",
    "    while not s.is_empty():\n",
    "        output += str(s.pop())\n",
    "    return output\n",
    "\n",
    "reverse_string(\"We will conquere COVID-19\")"
   ]
  },
  {
   "cell_type": "code",
   "execution_count": 64,
   "id": "963dbc11-2541-41b7-b670-6bfad04f2777",
   "metadata": {},
   "outputs": [],
   "source": [
    "def is_balanced(input: str) -> bool:\n",
    "    s = MyStack()\n",
    "    matching = {}\n",
    "    matching['}'] = '{'\n",
    "    matching[']'] = '['\n",
    "    matching[')'] = '('\n",
    "    for ch in input:\n",
    "        if ch == '{' or ch == '[' or ch == '(':\n",
    "            s.push(ch)\n",
    "        elif ch in matching:\n",
    "            if s.is_empty() or matching[ch] != s.pop():\n",
    "                return False\n",
    "    return s.is_empty()"
   ]
  },
  {
   "cell_type": "code",
   "execution_count": 65,
   "id": "836c37dc-37ce-41e6-b798-b116974db624",
   "metadata": {},
   "outputs": [
    {
     "name": "stdout",
     "output_type": "stream",
     "text": [
      "True\n",
      "False\n",
      "True\n",
      "False\n",
      "True\n"
     ]
    }
   ],
   "source": [
    "print(is_balanced(\"({a+b})\"))\n",
    "print(is_balanced(\"))((a+b}{\"))\n",
    "print(is_balanced(\"((a+b))\"))\n",
    "print(is_balanced(\"))\"))\n",
    "print(is_balanced(\"[a+b]*(x+2y)*{gg+kk}\"))"
   ]
  }
 ],
 "metadata": {
  "kernelspec": {
   "display_name": "Python 3 (ipykernel)",
   "language": "python",
   "name": "python3"
  },
  "language_info": {
   "codemirror_mode": {
    "name": "ipython",
    "version": 3
   },
   "file_extension": ".py",
   "mimetype": "text/x-python",
   "name": "python",
   "nbconvert_exporter": "python",
   "pygments_lexer": "ipython3",
   "version": "3.8.13"
  }
 },
 "nbformat": 4,
 "nbformat_minor": 5
}
