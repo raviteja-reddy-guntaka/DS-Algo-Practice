{
 "cells": [
  {
   "cell_type": "code",
   "execution_count": 1,
   "id": "d6808036-be75-4ede-b73c-79451a75aa49",
   "metadata": {},
   "outputs": [],
   "source": [
    "def selection_sort(elements):\n",
    "    for i in range(1, len(elements)):\n",
    "        min_idx = i - 1\n",
    "        for j in range(i, len(elements)):\n",
    "            if elements[j] < elements[min_idx]:\n",
    "                min_idx = j\n",
    "        tmp = elements[min_idx]\n",
    "        elements[min_idx] = elements[i-1]\n",
    "        elements[i-1] = tmp\n"
   ]
  },
  {
   "cell_type": "code",
   "execution_count": 2,
   "id": "be0d0266-d013-4e5a-8be1-dc883aa0e1ff",
   "metadata": {},
   "outputs": [
    {
     "name": "stdout",
     "output_type": "stream",
     "text": [
      "Insertion sort results: \n",
      "[1, 2, 5, 9, 34, 34, 67, 88]\n",
      "[2, 7, 9, 11, 15, 28, 29]\n",
      "[3, 7, 9, 11]\n",
      "[10, 21, 22, 25]\n",
      "[15, 28, 29]\n",
      "[]\n",
      "[6]\n"
     ]
    }
   ],
   "source": [
    "if __name__ == '__main__':\n",
    "    tests = [\n",
    "        [5, 9, 2, 1, 67, 34, 88, 34],\n",
    "        [11,9,29,7,2,15,28],\n",
    "        [3, 7, 9, 11],\n",
    "        [25, 22, 21, 10],\n",
    "        [29, 15, 28],\n",
    "        [],\n",
    "        [6]\n",
    "    ]\n",
    "    print(\"Insertion sort results: \")\n",
    "    for elements in tests:\n",
    "        selection_sort(elements)\n",
    "        print(elements)"
   ]
  }
 ],
 "metadata": {
  "kernelspec": {
   "display_name": "Python 3 (ipykernel)",
   "language": "python",
   "name": "python3"
  },
  "language_info": {
   "codemirror_mode": {
    "name": "ipython",
    "version": 3
   },
   "file_extension": ".py",
   "mimetype": "text/x-python",
   "name": "python",
   "nbconvert_exporter": "python",
   "pygments_lexer": "ipython3",
   "version": "3.8.13"
  }
 },
 "nbformat": 4,
 "nbformat_minor": 5
}
