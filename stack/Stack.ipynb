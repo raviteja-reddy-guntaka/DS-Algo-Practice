{
 "cells": [
  {
   "cell_type": "code",
   "execution_count": 3,
   "id": "698d1a0e-b982-41c3-aa04-70cf42c185e0",
   "metadata": {},
   "outputs": [],
   "source": [
    "from collections import deque\n",
    "\n",
    "class MyStack:\n",
    "    \n",
    "    def __init__(self):\n",
    "        self.stk = deque()\n",
    "    \n",
    "    def push(self, val):\n",
    "        self.stk.append(val)\n",
    "        \n",
    "    def peek(self):\n",
    "        self.stk[-1]\n",
    "        \n",
    "    def pop(self):\n",
    "        return self.stk.pop()\n",
    "    \n",
    "    def is_empty(self):\n",
    "        return len(self.stk)==0\n",
    "    \n",
    "    def size(self):\n",
    "        return len(self.stk)"
   ]
  },
  {
   "cell_type": "code",
   "execution_count": 4,
   "id": "11e48cf8-2dbb-4550-9735-d04733dd8997",
   "metadata": {},
   "outputs": [
    {
     "data": {
      "text/plain": [
       "True"
      ]
     },
     "execution_count": 4,
     "metadata": {},
     "output_type": "execute_result"
    }
   ],
   "source": [
    "s = MyStack()\n",
    "s.is_empty()"
   ]
  }
 ],
 "metadata": {
  "kernelspec": {
   "display_name": "Python 3 (ipykernel)",
   "language": "python",
   "name": "python3"
  },
  "language_info": {
   "codemirror_mode": {
    "name": "ipython",
    "version": 3
   },
   "file_extension": ".py",
   "mimetype": "text/x-python",
   "name": "python",
   "nbconvert_exporter": "python",
   "pygments_lexer": "ipython3",
   "version": "3.8.13"
  }
 },
 "nbformat": 4,
 "nbformat_minor": 5
}
