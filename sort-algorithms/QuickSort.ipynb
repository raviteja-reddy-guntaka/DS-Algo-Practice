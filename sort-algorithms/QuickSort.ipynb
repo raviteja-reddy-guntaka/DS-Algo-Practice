{
 "cells": [
  {
   "cell_type": "code",
   "execution_count": 57,
   "id": "ecf8501e-ff26-4b8b-abbb-3c36dda7f970",
   "metadata": {},
   "outputs": [],
   "source": [
    "# hoare partition scheme\n",
    "def partition(elements, start, end):\n",
    "    if start < 0 or end >= len(elements) or start >= end:\n",
    "        return\n",
    "    s = 1 + start\n",
    "    e = end\n",
    "    while s <= e:\n",
    "        if elements[s] <= elements[start]:\n",
    "            s += 1\n",
    "        elif elements[e] > elements[start]:\n",
    "            e -= 1\n",
    "        else:\n",
    "            tmp = elements[s]\n",
    "            elements[s] = elements[e]\n",
    "            elements[e] = tmp\n",
    "    tmp = elements[e]\n",
    "    elements[e] = elements[start]\n",
    "    elements[start] = tmp\n",
    "    return e\n",
    "\n",
    "\n",
    "def quick_sort(elements, start, end):\n",
    "    pt_idx = partition(elements, start, end)\n",
    "    if pt_idx is not None:\n",
    "        quick_sort(elements, start, pt_idx-1)\n",
    "        quick_sort(elements, pt_idx+1, end)"
   ]
  },
  {
   "cell_type": "code",
   "execution_count": 58,
   "id": "54603a6c-a218-4177-ad4b-627a26d8aecc",
   "metadata": {},
   "outputs": [],
   "source": [
    "# lumoto partition scheme\n",
    "def partition_lomoto(elements, start, end):\n",
    "    if start < 0 or end >= len(elements) or start >= end:\n",
    "        return\n",
    "    s = start\n",
    "    e = end - 1\n",
    "    while s <= e:\n",
    "        if elements[s] < elements[end]:\n",
    "            s += 1\n",
    "        elif elements[e] >= elements[end]:\n",
    "            e -= 1\n",
    "        else:\n",
    "            tmp = elements[s]\n",
    "            elements[s] = elements[e]\n",
    "            elements[e] = tmp\n",
    "    tmp = elements[s]\n",
    "    elements[s] = elements[end]\n",
    "    elements[end] = tmp\n",
    "    return s\n",
    "\n",
    "\n",
    "def quick_sort_lomoto(elements, start, end):\n",
    "    pt_idx = partition_lomoto(elements, start, end)\n",
    "    if pt_idx is not None:\n",
    "        quick_sort_lomoto(elements, start, pt_idx-1)\n",
    "        quick_sort_lomoto(elements, pt_idx+1, end)"
   ]
  },
  {
   "cell_type": "code",
   "execution_count": 64,
   "id": "913112bc-b2ab-4020-b569-566cea2cde85",
   "metadata": {},
   "outputs": [
    {
     "name": "stdout",
     "output_type": "stream",
     "text": [
      "Quick sort result using hoare partition scheme: \n",
      "[1, 2, 5, 9, 34, 34, 67, 88]\n",
      "[2, 7, 9, 11, 15, 28, 29]\n",
      "[3, 7, 9, 11]\n",
      "[10, 21, 22, 25]\n",
      "[15, 28, 29]\n",
      "[]\n",
      "[6]\n",
      "Quick sort result using lumoto partition scheme: \n",
      "[1, 2, 5, 9, 34, 34, 67, 88]\n",
      "[2, 7, 9, 11, 15, 28, 29]\n",
      "[3, 7, 9, 11]\n",
      "[10, 21, 22, 25]\n",
      "[15, 28, 29]\n",
      "[]\n",
      "[6]\n"
     ]
    }
   ],
   "source": [
    "if __name__ == '__main__':\n",
    "    tests = [\n",
    "        [5, 9, 2, 1, 67, 34, 88, 34],\n",
    "        [11,9,29,7,2,15,28],\n",
    "        [3, 7, 9, 11],\n",
    "        [25, 22, 21, 10],\n",
    "        [29, 15, 28],\n",
    "        [],\n",
    "        [6]\n",
    "    ]\n",
    "    print(\"Quick sort result using hoare partition scheme: \")\n",
    "    for elements in tests:\n",
    "        quick_sort(elements, 0, len(elements)-1)\n",
    "        print(elements)\n",
    "    \n",
    "    print(\"Quick sort result using lumoto partition scheme: \")\n",
    "    for elements in tests:\n",
    "        quick_sort_lomoto(elements, 0, len(elements)-1)\n",
    "        print(elements)"
   ]
  }
 ],
 "metadata": {
  "kernelspec": {
   "display_name": "Python 3 (ipykernel)",
   "language": "python",
   "name": "python3"
  },
  "language_info": {
   "codemirror_mode": {
    "name": "ipython",
    "version": 3
   },
   "file_extension": ".py",
   "mimetype": "text/x-python",
   "name": "python",
   "nbconvert_exporter": "python",
   "pygments_lexer": "ipython3",
   "version": "3.8.13"
  }
 },
 "nbformat": 4,
 "nbformat_minor": 5
}
