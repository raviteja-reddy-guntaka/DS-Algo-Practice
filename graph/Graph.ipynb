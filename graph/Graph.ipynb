{
 "cells": [
  {
   "cell_type": "code",
   "execution_count": 33,
   "id": "6b13e0ad-06e0-4b0d-81da-7738dd355e11",
   "metadata": {},
   "outputs": [],
   "source": [
    "class Graph:\n",
    "    \n",
    "    def __init__(self, edges):\n",
    "        self.edges = edges\n",
    "        self.adj_list = {}\n",
    "        for start, end in self.edges:\n",
    "            if start in self.adj_list:\n",
    "                self.adj_list[start].append(end)\n",
    "            else:\n",
    "                self.adj_list[start] = [end]\n",
    "        print(\"Adjacency list of graph: \", self.adj_list)\n",
    "        \n",
    "    \n",
    "    def get_path(self, start, end, path=[]):\n",
    "        if start == end:\n",
    "            return [ path + [start]]\n",
    "        \n",
    "        if start not in self.adj_list:\n",
    "            return []\n",
    "        \n",
    "        path = path + [start]\n",
    "        paths = []\n",
    "        for n in self.adj_list[start]:\n",
    "            if n not in path:\n",
    "                new_paths = self.get_path(n, end, path)\n",
    "                for p in new_paths:\n",
    "                    paths.append(p)\n",
    "        \n",
    "        return paths\n",
    "    \n",
    "    \n",
    "    def get_shortest_path(self, start, end, path=[]):\n",
    "        if start not in self.adj_list:\n",
    "            return []\n",
    "        if start == end:\n",
    "            return path + [start]\n",
    "        \n",
    "        path = path + [start]\n",
    "        shortest = None\n",
    "        for n in self.adj_list[start]:\n",
    "            if n not in path:\n",
    "                sp = self.get_shortest_path(n, end, path)\n",
    "                if sp:\n",
    "                    if shortest is None or len(sp) <len(shortest):\n",
    "                        shortest = sp\n",
    "        return shortest\n",
    "        \n"
   ]
  },
  {
   "cell_type": "code",
   "execution_count": 34,
   "id": "7a2c4f79-0f27-4453-aacc-8b3a765116b4",
   "metadata": {},
   "outputs": [
    {
     "name": "stdout",
     "output_type": "stream",
     "text": [
      "Adjacency list of graph:  {'Mumbai': ['Paris', 'Dubai'], 'Paris': ['Dubai', 'New York'], 'Dubai': ['New York'], 'New York': ['Toronto']}\n",
      "All paths between Mumbai and New York:  [['Mumbai', 'Paris', 'Dubai', 'New York'], ['Mumbai', 'Paris', 'New York'], ['Mumbai', 'Dubai', 'New York']]\n",
      "Shortest path between Mumbai and New York:  ['Mumbai', 'Paris', 'New York']\n"
     ]
    }
   ],
   "source": [
    "if __name__ == '__main__':\n",
    "    routes = [\n",
    "        (\"Mumbai\", \"Paris\"),\n",
    "        (\"Mumbai\", \"Dubai\"),\n",
    "        (\"Paris\", \"Dubai\"),\n",
    "        (\"Paris\", \"New York\"),\n",
    "        (\"Dubai\", \"New York\"),\n",
    "        (\"New York\", \"Toronto\")\n",
    "    ]\n",
    "    \n",
    "    routes_graph = Graph(routes)\n",
    "    \n",
    "    start = \"Mumbai\"\n",
    "    end = \"New York\"\n",
    "        \n",
    "    print(f\"All paths between {start} and {end}: \", routes_graph.get_path(start, end))\n",
    "    \n",
    "    print(f\"Shortest path between {start} and {end}: \", routes_graph.get_shortest_path(start, end))"
   ]
  }
 ],
 "metadata": {
  "kernelspec": {
   "display_name": "Python 3 (ipykernel)",
   "language": "python",
   "name": "python3"
  },
  "language_info": {
   "codemirror_mode": {
    "name": "ipython",
    "version": 3
   },
   "file_extension": ".py",
   "mimetype": "text/x-python",
   "name": "python",
   "nbconvert_exporter": "python",
   "pygments_lexer": "ipython3",
   "version": "3.8.13"
  }
 },
 "nbformat": 4,
 "nbformat_minor": 5
}
