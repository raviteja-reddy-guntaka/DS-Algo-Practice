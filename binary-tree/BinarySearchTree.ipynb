{
 "cells": [
  {
   "cell_type": "code",
   "execution_count": 6,
   "id": "c1c5132d-f4ff-41b9-9681-b4d83bf11921",
   "metadata": {},
   "outputs": [],
   "source": [
    "class BinarySearchTreeNode:\n",
    "    def __init__(self, data):\n",
    "        self.data = data\n",
    "        self.left = None\n",
    "        self.right = None\n",
    "        \n",
    "    def add_child(self, data):\n",
    "        if data == self.data:\n",
    "            return\n",
    "        \n",
    "        if self.data > data:\n",
    "            if self.left:\n",
    "                self.left.add_child(data)\n",
    "            else:\n",
    "                self.left = BinarySearchTreeNode(data)\n",
    "        else:\n",
    "            if self.right:\n",
    "                self.right.add_child(data)\n",
    "            else:\n",
    "                self.right = BinarySearchTreeNode(data)\n",
    "                \n",
    "    def in_order_traversal(self):\n",
    "        elements = []\n",
    "        if self.left:\n",
    "            elements += self.left.in_order_traversal()\n",
    "        \n",
    "        elements.append(self.data)\n",
    "        \n",
    "        if self.right:\n",
    "            elements += self.right.in_order_traversal()\n",
    "            \n",
    "        return elements\n",
    "    \n",
    "    def search(self, data):\n",
    "        if self.data == data:\n",
    "            return True\n",
    "        \n",
    "        if self.data > data:\n",
    "            if self.left:\n",
    "                return self.left.search(data)\n",
    "            return False\n",
    "        \n",
    "        if self.right:\n",
    "            return self.right.search(data)\n",
    "        return False\n",
    "        "
   ]
  },
  {
   "cell_type": "code",
   "execution_count": 10,
   "id": "76bd17d2-b0e0-473a-8df9-ee148c6244ae",
   "metadata": {},
   "outputs": [
    {
     "name": "stdout",
     "output_type": "stream",
     "text": [
      "Building tree with these elements: ['India', 'Pakistan', 'Germany', 'USA', 'China', 'India', 'UK', 'USA']\n",
      "UK is in the list?  True\n",
      "Sweden is in the list?  False\n",
      "Building tree with these elements: [17, 4, 1, 20, 9, 23, 18, 34]\n",
      "In order traversal gives this sorted list: [1, 4, 9, 17, 18, 20, 23, 34]\n"
     ]
    }
   ],
   "source": [
    "def build_tree(elements):\n",
    "    print(\"Building tree with these elements:\",elements)\n",
    "    root = BinarySearchTreeNode(elements[0])\n",
    "\n",
    "    for i in range(1,len(elements)):\n",
    "        root.add_child(elements[i])\n",
    "\n",
    "    return root\n",
    "\n",
    "if __name__ == '__main__':\n",
    "    countries = [\"India\",\"Pakistan\",\"Germany\", \"USA\",\"China\",\"India\",\"UK\",\"USA\"]\n",
    "    country_tree = build_tree(countries)\n",
    "\n",
    "    print(\"UK is in the list? \", country_tree.search(\"UK\"))\n",
    "    print(\"Sweden is in the list? \", country_tree.search(\"Sweden\"))\n",
    "\n",
    "    numbers_tree = build_tree([17, 4, 1, 20, 9, 23, 18, 34])\n",
    "    print(\"In order traversal gives this sorted list:\",numbers_tree.in_order_traversal())"
   ]
  }
 ],
 "metadata": {
  "kernelspec": {
   "display_name": "Python 3 (ipykernel)",
   "language": "python",
   "name": "python3"
  },
  "language_info": {
   "codemirror_mode": {
    "name": "ipython",
    "version": 3
   },
   "file_extension": ".py",
   "mimetype": "text/x-python",
   "name": "python",
   "nbconvert_exporter": "python",
   "pygments_lexer": "ipython3",
   "version": "3.8.13"
  }
 },
 "nbformat": 4,
 "nbformat_minor": 5
}
